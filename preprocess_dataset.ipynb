{
 "cells": [
  {
   "cell_type": "markdown",
   "metadata": {},
   "source": [
    "# imports"
   ]
  },
  {
   "cell_type": "code",
   "execution_count": 1,
   "metadata": {},
   "outputs": [],
   "source": [
    "import pandas as pd"
   ]
  },
  {
   "cell_type": "markdown",
   "metadata": {},
   "source": [
    "# Preprocess dataframe"
   ]
  },
  {
   "cell_type": "markdown",
   "metadata": {},
   "source": [
    "## Load data and concat two years"
   ]
  },
  {
   "cell_type": "code",
   "execution_count": 2,
   "metadata": {
    "scrolled": true
   },
   "outputs": [
    {
     "data": {
      "text/html": [
       "<div>\n",
       "<style scoped>\n",
       "    .dataframe tbody tr th:only-of-type {\n",
       "        vertical-align: middle;\n",
       "    }\n",
       "\n",
       "    .dataframe tbody tr th {\n",
       "        vertical-align: top;\n",
       "    }\n",
       "\n",
       "    .dataframe thead th {\n",
       "        text-align: right;\n",
       "    }\n",
       "</style>\n",
       "<table border=\"1\" class=\"dataframe\">\n",
       "  <thead>\n",
       "    <tr style=\"text-align: right;\">\n",
       "      <th></th>\n",
       "      <th>Рік</th>\n",
       "      <th>Область</th>\n",
       "      <th>Учбовий заклад</th>\n",
       "      <th>Спеціальність</th>\n",
       "      <th>Факультет</th>\n",
       "      <th>Місце у рейтингу</th>\n",
       "      <th>Пріоритет</th>\n",
       "      <th>Конкурсний бал</th>\n",
       "      <th>Статус заяви</th>\n",
       "      <th>Інфо про спеціальність</th>\n",
       "      <th>Квоти</th>\n",
       "    </tr>\n",
       "  </thead>\n",
       "  <tbody>\n",
       "    <tr>\n",
       "      <th>0</th>\n",
       "      <td>2018</td>\n",
       "      <td>м. Київ</td>\n",
       "      <td>Вищий навчальний заклад «Відкритий міжнародний...</td>\n",
       "      <td>016 Спеціальна освіта</td>\n",
       "      <td>-</td>\n",
       "      <td>1</td>\n",
       "      <td>—</td>\n",
       "      <td>127.5</td>\n",
       "      <td>До наказу (контракт)</td>\n",
       "      <td>Українська мова та література (ЗНО): 129\\r\\nБі...</td>\n",
       "      <td>—</td>\n",
       "    </tr>\n",
       "    <tr>\n",
       "      <th>1</th>\n",
       "      <td>2018</td>\n",
       "      <td>м. Київ</td>\n",
       "      <td>Вищий навчальний заклад «Відкритий міжнародний...</td>\n",
       "      <td>016 Спеціальна освіта</td>\n",
       "      <td>-</td>\n",
       "      <td>2</td>\n",
       "      <td>—</td>\n",
       "      <td>160.9</td>\n",
       "      <td>Рекомендовано (контракт)</td>\n",
       "      <td>Українська мова та література (ЗНО): 158\\r\\nБі...</td>\n",
       "      <td>—</td>\n",
       "    </tr>\n",
       "    <tr>\n",
       "      <th>2</th>\n",
       "      <td>2018</td>\n",
       "      <td>м. Київ</td>\n",
       "      <td>Вищий навчальний заклад «Відкритий міжнародний...</td>\n",
       "      <td>016 Спеціальна освіта</td>\n",
       "      <td>-</td>\n",
       "      <td>3</td>\n",
       "      <td>—</td>\n",
       "      <td>151.4</td>\n",
       "      <td>Рекомендовано (контракт)</td>\n",
       "      <td>Українська мова та література (ЗНО): 152\\r\\nБі...</td>\n",
       "      <td>—</td>\n",
       "    </tr>\n",
       "    <tr>\n",
       "      <th>3</th>\n",
       "      <td>2018</td>\n",
       "      <td>м. Київ</td>\n",
       "      <td>Вищий навчальний заклад «Відкритий міжнародний...</td>\n",
       "      <td>016 Спеціальна освіта</td>\n",
       "      <td>-</td>\n",
       "      <td>4</td>\n",
       "      <td>—</td>\n",
       "      <td>150.6</td>\n",
       "      <td>Рекомендовано (контракт)</td>\n",
       "      <td>Українська мова та література (ЗНО): 163\\r\\nБі...</td>\n",
       "      <td>—</td>\n",
       "    </tr>\n",
       "    <tr>\n",
       "      <th>4</th>\n",
       "      <td>2018</td>\n",
       "      <td>м. Київ</td>\n",
       "      <td>Вищий навчальний заклад «Відкритий міжнародний...</td>\n",
       "      <td>016 Спеціальна освіта</td>\n",
       "      <td>-</td>\n",
       "      <td>5</td>\n",
       "      <td>—</td>\n",
       "      <td>147.7</td>\n",
       "      <td>Рекомендовано (контракт)</td>\n",
       "      <td>Українська мова та література (ЗНО): 168\\r\\nБі...</td>\n",
       "      <td>—</td>\n",
       "    </tr>\n",
       "  </tbody>\n",
       "</table>\n",
       "</div>"
      ],
      "text/plain": [
       "    Рік  Область                                     Учбовий заклад  \\\n",
       "0  2018  м. Київ  Вищий навчальний заклад «Відкритий міжнародний...   \n",
       "1  2018  м. Київ  Вищий навчальний заклад «Відкритий міжнародний...   \n",
       "2  2018  м. Київ  Вищий навчальний заклад «Відкритий міжнародний...   \n",
       "3  2018  м. Київ  Вищий навчальний заклад «Відкритий міжнародний...   \n",
       "4  2018  м. Київ  Вищий навчальний заклад «Відкритий міжнародний...   \n",
       "\n",
       "           Спеціальність Факультет  Місце у рейтингу Пріоритет  \\\n",
       "0  016 Спеціальна освіта         -                 1         —   \n",
       "1  016 Спеціальна освіта         -                 2         —   \n",
       "2  016 Спеціальна освіта         -                 3         —   \n",
       "3  016 Спеціальна освіта         -                 4         —   \n",
       "4  016 Спеціальна освіта         -                 5         —   \n",
       "\n",
       "   Конкурсний бал              Статус заяви  \\\n",
       "0           127.5      До наказу (контракт)   \n",
       "1           160.9  Рекомендовано (контракт)   \n",
       "2           151.4  Рекомендовано (контракт)   \n",
       "3           150.6  Рекомендовано (контракт)   \n",
       "4           147.7  Рекомендовано (контракт)   \n",
       "\n",
       "                              Інфо про спеціальність Квоти  \n",
       "0  Українська мова та література (ЗНО): 129\\r\\nБі...     —  \n",
       "1  Українська мова та література (ЗНО): 158\\r\\nБі...     —  \n",
       "2  Українська мова та література (ЗНО): 152\\r\\nБі...     —  \n",
       "3  Українська мова та література (ЗНО): 163\\r\\nБі...     —  \n",
       "4  Українська мова та література (ЗНО): 168\\r\\nБі...     —  "
      ]
     },
     "execution_count": 2,
     "metadata": {},
     "output_type": "execute_result"
    }
   ],
   "source": [
    "data_2018 = pd.read_csv(\"data2018.csv\", encoding=\"cp1251\")\n",
    "data_2019 = pd.read_csv(\"data2019.csv\", encoding=\"cp1251\")\n",
    "df = pd.concat([data_2018, data_2019])\n",
    "df.head()"
   ]
  },
  {
   "cell_type": "markdown",
   "metadata": {},
   "source": [
    "## Rename, remove and clean columns\n",
    "0 - didn't pass at all\n",
    "\n",
    "1 - pass to contract\n",
    "\n",
    "2 - pass to budget"
   ]
  },
  {
   "cell_type": "code",
   "execution_count": 3,
   "metadata": {},
   "outputs": [
    {
     "data": {
      "text/html": [
       "<div>\n",
       "<style scoped>\n",
       "    .dataframe tbody tr th:only-of-type {\n",
       "        vertical-align: middle;\n",
       "    }\n",
       "\n",
       "    .dataframe tbody tr th {\n",
       "        vertical-align: top;\n",
       "    }\n",
       "\n",
       "    .dataframe thead th {\n",
       "        text-align: right;\n",
       "    }\n",
       "</style>\n",
       "<table border=\"1\" class=\"dataframe\">\n",
       "  <thead>\n",
       "    <tr style=\"text-align: right;\">\n",
       "      <th></th>\n",
       "      <th>district</th>\n",
       "      <th>specialty</th>\n",
       "      <th>points</th>\n",
       "      <th>status</th>\n",
       "    </tr>\n",
       "  </thead>\n",
       "  <tbody>\n",
       "    <tr>\n",
       "      <th>0</th>\n",
       "      <td>м. Київ</td>\n",
       "      <td>016</td>\n",
       "      <td>127.5</td>\n",
       "      <td>1</td>\n",
       "    </tr>\n",
       "    <tr>\n",
       "      <th>1</th>\n",
       "      <td>м. Київ</td>\n",
       "      <td>016</td>\n",
       "      <td>160.9</td>\n",
       "      <td>1</td>\n",
       "    </tr>\n",
       "    <tr>\n",
       "      <th>2</th>\n",
       "      <td>м. Київ</td>\n",
       "      <td>016</td>\n",
       "      <td>151.4</td>\n",
       "      <td>1</td>\n",
       "    </tr>\n",
       "    <tr>\n",
       "      <th>3</th>\n",
       "      <td>м. Київ</td>\n",
       "      <td>016</td>\n",
       "      <td>150.6</td>\n",
       "      <td>1</td>\n",
       "    </tr>\n",
       "    <tr>\n",
       "      <th>4</th>\n",
       "      <td>м. Київ</td>\n",
       "      <td>016</td>\n",
       "      <td>147.7</td>\n",
       "      <td>1</td>\n",
       "    </tr>\n",
       "  </tbody>\n",
       "</table>\n",
       "</div>"
      ],
      "text/plain": [
       "  district specialty  points  status\n",
       "0  м. Київ       016   127.5       1\n",
       "1  м. Київ       016   160.9       1\n",
       "2  м. Київ       016   151.4       1\n",
       "3  м. Київ       016   150.6       1\n",
       "4  м. Київ       016   147.7       1"
      ]
     },
     "execution_count": 3,
     "metadata": {},
     "output_type": "execute_result"
    }
   ],
   "source": [
    "df.columns = [\n",
    "    \"year\",\n",
    "    \"district\",\n",
    "    \"university\",\n",
    "    \"specialty\",\n",
    "    \"faculty\",\n",
    "    \"rating\",\n",
    "    \"priority\",\n",
    "    \"points\",\n",
    "    \"status\",\n",
    "    \"info\",\n",
    "    \"quotas\"\n",
    "]\n",
    "df = df.drop([\"year\", \"university\", \"faculty\", \"info\", \"quotas\", \"rating\", \"priority\"], axis=1)\n",
    "df[\"specialty\"] = df[\"specialty\"].map(lambda val: val[:3])\n",
    "df[\"status\"] = df[\"status\"].map({\n",
    "    'До наказу (контракт)': 1,\n",
    "    'Рекомендовано (контракт)': 1,\n",
    "    'Відмова': 0,\n",
    "    'Скасовано НЗ': 0,\n",
    "    'Скасовано (втрата пріор.)': 0,\n",
    "    'Зареєстровано': 1,\n",
    "    'Затримано': 0,\n",
    "    'Відраховано': 0,\n",
    "    'До наказу (бюджет)': 2,\n",
    "    'Відхилено (бюджет)': 0,\n",
    "    'Допущено': 1,\n",
    "    'Рекомендовано (бюджет)': 2,\n",
    "    'Заява надійшла з сайту': 1,\n",
    "    'Відхилено (контракт)': 0,\n",
    "    'Допущено (контракт, за ріш. ПК)': 1,\n",
    "    'Рекомендовано (к)': 1,\n",
    "    'До наказу (к)': 1,\n",
    "    'До наказу (б)': 2,\n",
    "    'Відхилено (б)': 0,\n",
    "    'Рекомендовано (б)': 2,\n",
    "    'Відхилено (к)': 0,\n",
    "    'Допущено (к, за ріш. ПК)': 1\n",
    "})\n",
    "df.status = df.status.dropna()\n",
    "df.head()"
   ]
  },
  {
   "cell_type": "markdown",
   "metadata": {},
   "source": [
    "## Get values for frontend"
   ]
  },
  {
   "cell_type": "code",
   "execution_count": 4,
   "metadata": {},
   "outputs": [
    {
     "data": {
      "text/plain": [
       "array(['м. Київ', 'Вінницька область', 'Волинська область',\n",
       "       'Дніпропетровська область', 'Донецька область',\n",
       "       'Житомирська область', 'Закарпатська область',\n",
       "       'Запорізька область', 'Івано-Франківська область',\n",
       "       'Київська область', 'Кіровоградська область', 'Луганська область',\n",
       "       'Львівська область', 'Миколаївська область', 'Одеська область',\n",
       "       'Полтавська область', 'Рівненська область', 'Сумська область',\n",
       "       'Тернопільська область', 'Харківська область',\n",
       "       'Херсонська область', 'Хмельницька область', 'Черкаська область',\n",
       "       'Чернівецька область', 'Чернігівська область'], dtype=object)"
      ]
     },
     "execution_count": 4,
     "metadata": {},
     "output_type": "execute_result"
    }
   ],
   "source": [
    "df.district.unique()"
   ]
  },
  {
   "cell_type": "code",
   "execution_count": 5,
   "metadata": {},
   "outputs": [
    {
     "data": {
      "text/plain": [
       "array(['016', '022', '029', '035', '053', '061', '071', '072', '073',\n",
       "       '075', '081', '091', '121', '122', '123', '161', '181', '226',\n",
       "       '227', '231', '242', '274', '281', '291', '051', '076', '223',\n",
       "       '292', '015', '054', '124', '125', '273', '275', '141', '151',\n",
       "       '271', '126', '171', '172', '173', '014', '241', '293', '023',\n",
       "       '101', '131', '133', '144', '183', '191', '192', '193', '152',\n",
       "       '206', '021', '027', '031', '032', '033', '034', '052', '102',\n",
       "       '103', '104', '105', '106', '111', '112', '113', '162', '224',\n",
       "       '024', '025', '026', '028', '182', '012', '013', '017', '134',\n",
       "       '142', '153', '163', '186', '263', '272', '011', '041', '232',\n",
       "       '136', '143', '184', '132', '194', '187', '201', '202', '203',\n",
       "       '204', '205', '207', '208', '211', '185', '262', '256', '251',\n",
       "       '145', '261', '135', '229', '255'], dtype=object)"
      ]
     },
     "execution_count": 5,
     "metadata": {},
     "output_type": "execute_result"
    }
   ],
   "source": [
    "df.specialty.unique()"
   ]
  },
  {
   "cell_type": "markdown",
   "metadata": {},
   "source": [
    "## Split into two datasets\n",
    "\n",
    "- The first defines people who didn't pass to contract and didn't pass at all as the same people. This model is used to check people who wants to apply for budget\n",
    "- The second defines people who pass to contract and to budget as the same category, since if you pass to budget you'll pass to contract"
   ]
  },
  {
   "cell_type": "code",
   "execution_count": 6,
   "metadata": {},
   "outputs": [],
   "source": [
    "df_budget = df.copy()\n",
    "df_contract = df.copy()\n",
    "df_budget[\"status\"] = df_budget[\"status\"].map({\n",
    "    1: 0,\n",
    "    2: 1,\n",
    "    0: 0\n",
    "})\n",
    "df_contract[\"status\"] = df_contract[\"status\"].map({\n",
    "    1: 1,\n",
    "    2: 1,\n",
    "    0: 0\n",
    "})\n"
   ]
  },
  {
   "cell_type": "code",
   "execution_count": 7,
   "metadata": {},
   "outputs": [
    {
     "data": {
      "text/html": [
       "<div>\n",
       "<style scoped>\n",
       "    .dataframe tbody tr th:only-of-type {\n",
       "        vertical-align: middle;\n",
       "    }\n",
       "\n",
       "    .dataframe tbody tr th {\n",
       "        vertical-align: top;\n",
       "    }\n",
       "\n",
       "    .dataframe thead th {\n",
       "        text-align: right;\n",
       "    }\n",
       "</style>\n",
       "<table border=\"1\" class=\"dataframe\">\n",
       "  <thead>\n",
       "    <tr style=\"text-align: right;\">\n",
       "      <th></th>\n",
       "      <th>district</th>\n",
       "      <th>specialty</th>\n",
       "      <th>points</th>\n",
       "      <th>status</th>\n",
       "    </tr>\n",
       "  </thead>\n",
       "  <tbody>\n",
       "    <tr>\n",
       "      <th>0</th>\n",
       "      <td>м. Київ</td>\n",
       "      <td>016</td>\n",
       "      <td>127.5</td>\n",
       "      <td>0</td>\n",
       "    </tr>\n",
       "    <tr>\n",
       "      <th>1</th>\n",
       "      <td>м. Київ</td>\n",
       "      <td>016</td>\n",
       "      <td>160.9</td>\n",
       "      <td>0</td>\n",
       "    </tr>\n",
       "    <tr>\n",
       "      <th>2</th>\n",
       "      <td>м. Київ</td>\n",
       "      <td>016</td>\n",
       "      <td>151.4</td>\n",
       "      <td>0</td>\n",
       "    </tr>\n",
       "    <tr>\n",
       "      <th>3</th>\n",
       "      <td>м. Київ</td>\n",
       "      <td>016</td>\n",
       "      <td>150.6</td>\n",
       "      <td>0</td>\n",
       "    </tr>\n",
       "    <tr>\n",
       "      <th>4</th>\n",
       "      <td>м. Київ</td>\n",
       "      <td>016</td>\n",
       "      <td>147.7</td>\n",
       "      <td>0</td>\n",
       "    </tr>\n",
       "  </tbody>\n",
       "</table>\n",
       "</div>"
      ],
      "text/plain": [
       "  district specialty  points  status\n",
       "0  м. Київ       016   127.5       0\n",
       "1  м. Київ       016   160.9       0\n",
       "2  м. Київ       016   151.4       0\n",
       "3  м. Київ       016   150.6       0\n",
       "4  м. Київ       016   147.7       0"
      ]
     },
     "execution_count": 7,
     "metadata": {},
     "output_type": "execute_result"
    }
   ],
   "source": [
    "df_budget.head()"
   ]
  },
  {
   "cell_type": "code",
   "execution_count": 8,
   "metadata": {},
   "outputs": [
    {
     "data": {
      "text/html": [
       "<div>\n",
       "<style scoped>\n",
       "    .dataframe tbody tr th:only-of-type {\n",
       "        vertical-align: middle;\n",
       "    }\n",
       "\n",
       "    .dataframe tbody tr th {\n",
       "        vertical-align: top;\n",
       "    }\n",
       "\n",
       "    .dataframe thead th {\n",
       "        text-align: right;\n",
       "    }\n",
       "</style>\n",
       "<table border=\"1\" class=\"dataframe\">\n",
       "  <thead>\n",
       "    <tr style=\"text-align: right;\">\n",
       "      <th></th>\n",
       "      <th>district</th>\n",
       "      <th>specialty</th>\n",
       "      <th>points</th>\n",
       "      <th>status</th>\n",
       "    </tr>\n",
       "  </thead>\n",
       "  <tbody>\n",
       "    <tr>\n",
       "      <th>0</th>\n",
       "      <td>м. Київ</td>\n",
       "      <td>016</td>\n",
       "      <td>127.5</td>\n",
       "      <td>1</td>\n",
       "    </tr>\n",
       "    <tr>\n",
       "      <th>1</th>\n",
       "      <td>м. Київ</td>\n",
       "      <td>016</td>\n",
       "      <td>160.9</td>\n",
       "      <td>1</td>\n",
       "    </tr>\n",
       "    <tr>\n",
       "      <th>2</th>\n",
       "      <td>м. Київ</td>\n",
       "      <td>016</td>\n",
       "      <td>151.4</td>\n",
       "      <td>1</td>\n",
       "    </tr>\n",
       "    <tr>\n",
       "      <th>3</th>\n",
       "      <td>м. Київ</td>\n",
       "      <td>016</td>\n",
       "      <td>150.6</td>\n",
       "      <td>1</td>\n",
       "    </tr>\n",
       "    <tr>\n",
       "      <th>4</th>\n",
       "      <td>м. Київ</td>\n",
       "      <td>016</td>\n",
       "      <td>147.7</td>\n",
       "      <td>1</td>\n",
       "    </tr>\n",
       "  </tbody>\n",
       "</table>\n",
       "</div>"
      ],
      "text/plain": [
       "  district specialty  points  status\n",
       "0  м. Київ       016   127.5       1\n",
       "1  м. Київ       016   160.9       1\n",
       "2  м. Київ       016   151.4       1\n",
       "3  м. Київ       016   150.6       1\n",
       "4  м. Київ       016   147.7       1"
      ]
     },
     "execution_count": 8,
     "metadata": {},
     "output_type": "execute_result"
    }
   ],
   "source": [
    "df_contract.head()"
   ]
  },
  {
   "cell_type": "markdown",
   "metadata": {},
   "source": [
    "## Dump cleaned_data set"
   ]
  },
  {
   "cell_type": "code",
   "execution_count": 9,
   "metadata": {},
   "outputs": [],
   "source": [
    "df_budget.to_csv(\"budget.csv\", index=False)\n",
    "df_contract.to_csv(\"contract.csv\", index=False)"
   ]
  }
 ],
 "metadata": {
  "kernelspec": {
   "display_name": "Python 3",
   "language": "python",
   "name": "python3"
  },
  "language_info": {
   "codemirror_mode": {
    "name": "ipython",
    "version": 3
   },
   "file_extension": ".py",
   "mimetype": "text/x-python",
   "name": "python",
   "nbconvert_exporter": "python",
   "pygments_lexer": "ipython3",
   "version": "3.7.3"
  }
 },
 "nbformat": 4,
 "nbformat_minor": 2
}

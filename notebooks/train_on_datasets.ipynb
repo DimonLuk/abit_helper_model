{
 "cells": [
  {
   "cell_type": "markdown",
   "metadata": {},
   "source": [
    "# imports"
   ]
  },
  {
   "cell_type": "code",
   "execution_count": 1,
   "metadata": {},
   "outputs": [],
   "source": [
    "import pandas as pd\n",
    "import numpy as np\n",
    "from sklearn.model_selection import train_test_split\n",
    "from sklearn.pipeline import make_pipeline\n",
    "from sklearn.preprocessing import OneHotEncoder, StandardScaler\n",
    "from sklearn.compose import ColumnTransformer\n",
    "from sklearn.linear_model import LogisticRegression\n",
    "from sklearn.model_selection import cross_val_score, train_test_split, learning_curve, GridSearchCV\n",
    "from sklearn.base import clone\n",
    "import matplotlib.pyplot as plt"
   ]
  },
  {
   "cell_type": "markdown",
   "metadata": {},
   "source": [
    "# General precofniguration"
   ]
  },
  {
   "cell_type": "markdown",
   "metadata": {},
   "source": [
    "## load data"
   ]
  },
  {
   "cell_type": "code",
   "execution_count": 2,
   "metadata": {},
   "outputs": [
    {
     "data": {
      "text/html": [
       "<div>\n",
       "<style scoped>\n",
       "    .dataframe tbody tr th:only-of-type {\n",
       "        vertical-align: middle;\n",
       "    }\n",
       "\n",
       "    .dataframe tbody tr th {\n",
       "        vertical-align: top;\n",
       "    }\n",
       "\n",
       "    .dataframe thead th {\n",
       "        text-align: right;\n",
       "    }\n",
       "</style>\n",
       "<table border=\"1\" class=\"dataframe\">\n",
       "  <thead>\n",
       "    <tr style=\"text-align: right;\">\n",
       "      <th></th>\n",
       "      <th>district</th>\n",
       "      <th>university</th>\n",
       "      <th>specialty</th>\n",
       "      <th>points</th>\n",
       "      <th>status</th>\n",
       "    </tr>\n",
       "  </thead>\n",
       "  <tbody>\n",
       "    <tr>\n",
       "      <th>0</th>\n",
       "      <td>м. Київ</td>\n",
       "      <td>Національна академія образотворчого мистецтва ...</td>\n",
       "      <td>191</td>\n",
       "      <td>181.500</td>\n",
       "      <td>1</td>\n",
       "    </tr>\n",
       "    <tr>\n",
       "      <th>1</th>\n",
       "      <td>м. Київ</td>\n",
       "      <td>Національний університет харчових технологій</td>\n",
       "      <td>181</td>\n",
       "      <td>170.000</td>\n",
       "      <td>1</td>\n",
       "    </tr>\n",
       "    <tr>\n",
       "      <th>2</th>\n",
       "      <td>м. Київ</td>\n",
       "      <td>Національний технічний університет України «Ки...</td>\n",
       "      <td>131</td>\n",
       "      <td>182.172</td>\n",
       "      <td>1</td>\n",
       "    </tr>\n",
       "    <tr>\n",
       "      <th>3</th>\n",
       "      <td>м. Київ</td>\n",
       "      <td>Київський національний університет культури і ...</td>\n",
       "      <td>61</td>\n",
       "      <td>186.125</td>\n",
       "      <td>1</td>\n",
       "    </tr>\n",
       "    <tr>\n",
       "      <th>4</th>\n",
       "      <td>м. Київ</td>\n",
       "      <td>Київський національний університет імені Тарас...</td>\n",
       "      <td>101</td>\n",
       "      <td>173.655</td>\n",
       "      <td>1</td>\n",
       "    </tr>\n",
       "  </tbody>\n",
       "</table>\n",
       "</div>"
      ],
      "text/plain": [
       "  district                                         university  specialty  \\\n",
       "0  м. Київ  Національна академія образотворчого мистецтва ...        191   \n",
       "1  м. Київ       Національний університет харчових технологій        181   \n",
       "2  м. Київ  Національний технічний університет України «Ки...        131   \n",
       "3  м. Київ  Київський національний університет культури і ...         61   \n",
       "4  м. Київ  Київський національний університет імені Тарас...        101   \n",
       "\n",
       "    points  status  \n",
       "0  181.500       1  \n",
       "1  170.000       1  \n",
       "2  182.172       1  \n",
       "3  186.125       1  \n",
       "4  173.655       1  "
      ]
     },
     "execution_count": 2,
     "metadata": {},
     "output_type": "execute_result"
    }
   ],
   "source": [
    "df_budget = pd.read_csv(\"budget.csv\")\n",
    "df_contract = pd.read_csv(\"contract.csv\")\n",
    "df_budget.head()"
   ]
  },
  {
   "cell_type": "code",
   "execution_count": 3,
   "metadata": {},
   "outputs": [
    {
     "data": {
      "text/html": [
       "<div>\n",
       "<style scoped>\n",
       "    .dataframe tbody tr th:only-of-type {\n",
       "        vertical-align: middle;\n",
       "    }\n",
       "\n",
       "    .dataframe tbody tr th {\n",
       "        vertical-align: top;\n",
       "    }\n",
       "\n",
       "    .dataframe thead th {\n",
       "        text-align: right;\n",
       "    }\n",
       "</style>\n",
       "<table border=\"1\" class=\"dataframe\">\n",
       "  <thead>\n",
       "    <tr style=\"text-align: right;\">\n",
       "      <th></th>\n",
       "      <th>district</th>\n",
       "      <th>university</th>\n",
       "      <th>specialty</th>\n",
       "      <th>points</th>\n",
       "      <th>status</th>\n",
       "    </tr>\n",
       "  </thead>\n",
       "  <tbody>\n",
       "    <tr>\n",
       "      <th>0</th>\n",
       "      <td>м. Київ</td>\n",
       "      <td>Національна академія образотворчого мистецтва ...</td>\n",
       "      <td>191</td>\n",
       "      <td>181.500</td>\n",
       "      <td>1</td>\n",
       "    </tr>\n",
       "    <tr>\n",
       "      <th>1</th>\n",
       "      <td>м. Київ</td>\n",
       "      <td>Національний університет харчових технологій</td>\n",
       "      <td>181</td>\n",
       "      <td>170.000</td>\n",
       "      <td>1</td>\n",
       "    </tr>\n",
       "    <tr>\n",
       "      <th>2</th>\n",
       "      <td>м. Київ</td>\n",
       "      <td>Національний технічний університет України «Ки...</td>\n",
       "      <td>131</td>\n",
       "      <td>182.172</td>\n",
       "      <td>1</td>\n",
       "    </tr>\n",
       "    <tr>\n",
       "      <th>3</th>\n",
       "      <td>м. Київ</td>\n",
       "      <td>Київський національний університет культури і ...</td>\n",
       "      <td>61</td>\n",
       "      <td>186.125</td>\n",
       "      <td>1</td>\n",
       "    </tr>\n",
       "    <tr>\n",
       "      <th>4</th>\n",
       "      <td>м. Київ</td>\n",
       "      <td>Київський національний університет імені Тарас...</td>\n",
       "      <td>101</td>\n",
       "      <td>173.655</td>\n",
       "      <td>1</td>\n",
       "    </tr>\n",
       "  </tbody>\n",
       "</table>\n",
       "</div>"
      ],
      "text/plain": [
       "  district                                         university  specialty  \\\n",
       "0  м. Київ  Національна академія образотворчого мистецтва ...        191   \n",
       "1  м. Київ       Національний університет харчових технологій        181   \n",
       "2  м. Київ  Національний технічний університет України «Ки...        131   \n",
       "3  м. Київ  Київський національний університет культури і ...         61   \n",
       "4  м. Київ  Київський національний університет імені Тарас...        101   \n",
       "\n",
       "    points  status  \n",
       "0  181.500       1  \n",
       "1  170.000       1  \n",
       "2  182.172       1  \n",
       "3  186.125       1  \n",
       "4  173.655       1  "
      ]
     },
     "execution_count": 3,
     "metadata": {},
     "output_type": "execute_result"
    }
   ],
   "source": [
    "df_contract.head()"
   ]
  },
  {
   "cell_type": "markdown",
   "metadata": {},
   "source": [
    "## Prepare data for learning\n",
    "X - because data are the same for both cases\n",
    "\n",
    "y_b - labels where we prefer budget applicants\n",
    "\n",
    "y_c - labels where we prefer contract applicants"
   ]
  },
  {
   "cell_type": "code",
   "execution_count": 4,
   "metadata": {},
   "outputs": [],
   "source": [
    "def separate_results_from_data(df, budget=True):\n",
    "    data = df.sample(30000, random_state=2).values\n",
    "    X, y = data[:, :-1], data[:, -1:]\n",
    "    y = y.astype(\"int\")\n",
    "    y = y.ravel()\n",
    "    return X, y\n",
    "\n",
    "\n",
    "X, y_b = separate_results_from_data(df_budget)\n",
    "_, y_c = separate_results_from_data(df_contract)"
   ]
  },
  {
   "cell_type": "code",
   "execution_count": 5,
   "metadata": {
    "scrolled": false
   },
   "outputs": [],
   "source": [
    "def get_train_test_split(X, y):\n",
    "    X_train, X_test, y_train, y_test = train_test_split(X, y, test_size=0.3, random_state=2)\n",
    "    y_train = y_train\n",
    "    y_test = y_test\n",
    "    return X_train, X_test, y_train, y_test\n",
    "\n",
    "\n",
    "X_train, X_test, y_b_train, y_b_test = get_train_test_split(X, y_b)\n",
    "_, _, y_c_train, y_c_test = get_train_test_split(X, y_c)"
   ]
  },
  {
   "cell_type": "code",
   "execution_count": 6,
   "metadata": {
    "scrolled": true
   },
   "outputs": [
    {
     "data": {
      "text/plain": [
       "array(['Івано-Франківська область', 'Волинська область',\n",
       "       'Вінницька область', 'Дніпропетровська область',\n",
       "       'Донецька область', 'Житомирська область', 'Закарпатська область',\n",
       "       'Запорізька область', 'Київська область', 'Кіровоградська область',\n",
       "       'Луганська область', 'Львівська область', 'Миколаївська область',\n",
       "       'Одеська область', 'Полтавська область', 'Рівненська область',\n",
       "       'Сумська область', 'Тернопільська область', 'Харківська область',\n",
       "       'Херсонська область', 'Хмельницька область', 'Черкаська область',\n",
       "       'Чернівецька область', 'Чернігівська область', 'м. Київ'],\n",
       "      dtype=object)"
      ]
     },
     "execution_count": 6,
     "metadata": {},
     "output_type": "execute_result"
    }
   ],
   "source": [
    "np.unique(X[:, 0])"
   ]
  },
  {
   "cell_type": "markdown",
   "metadata": {},
   "source": [
    "## Greed search\n",
    "For logistic regression, results ~ 79%\n",
    " - PCA - n_components: 139, so no PCA\n",
    " - C: 10\n",
    " - max_iter: 7\n",
    " - penalty: l1\n",
    "\n",
    "For SVC, results ~ 82%\n",
    " - C: 100\n",
    " - gamma: auto"
   ]
  },
  {
   "cell_type": "code",
   "execution_count": 16,
   "metadata": {},
   "outputs": [],
   "source": [
    "pipeline = make_pipeline(\n",
    "    ColumnTransformer(\n",
    "        transformers=[\n",
    "            (\"ohe0\", OneHotEncoder(categories=[np.unique(X[:, 0]), np.unique(X[:, 1]), np.unique(X[:, 2])], sparse=False), [0, 1, 2]),\n",
    "        ],\n",
    "        remainder=\"passthrough\",\n",
    "        n_jobs=-1\n",
    "    ),\n",
    "    StandardScaler(),\n",
    "    LogisticRegression(\n",
    "        C=10,\n",
    "        max_iter=7,\n",
    "        penalty=\"l2\",\n",
    "    )\n",
    ")"
   ]
  },
  {
   "cell_type": "raw",
   "metadata": {},
   "source": [
    "pipeline.get_params().keys()"
   ]
  },
  {
   "cell_type": "raw",
   "metadata": {},
   "source": [
    "param_grid = {\n",
    "    \"pca__n_components\": [103, 117, 139],\n",
    "    \"logisticregression__C\": [0.001, 0.01, 0.1, 1, 10, 100],\n",
    "    \"logisticregression__max_iter\": [1, 3, 5, 7, 9],\n",
    "    \"logisticregression__penalty\": [\"l1\", \"l2\"]\n",
    "}\n",
    "grid_search = GridSearchCV(\n",
    "    estimator=pipeline,\n",
    "    n_jobs=-1,\n",
    "    cv=5,\n",
    "    param_grid=param_grid,\n",
    ")\n",
    "grid_search.fit(X_train, y_b_train)"
   ]
  },
  {
   "cell_type": "raw",
   "metadata": {},
   "source": [
    "grid_search.best_score_"
   ]
  },
  {
   "cell_type": "raw",
   "metadata": {},
   "source": [
    "grid_search.best_params_"
   ]
  },
  {
   "cell_type": "code",
   "execution_count": 17,
   "metadata": {},
   "outputs": [],
   "source": [
    "train_sizes, train_scores, test_scores = learning_curve(\n",
    "    estimator=pipeline,\n",
    "    X=X_train,\n",
    "    y=y_b_train,\n",
    "    train_sizes=np.linspace(0.1, 1, 10),\n",
    "    cv=5,\n",
    "    n_jobs=4\n",
    ")"
   ]
  },
  {
   "cell_type": "code",
   "execution_count": 38,
   "metadata": {},
   "outputs": [
    {
     "data": {
      "image/png": "[encoded data removed]",
      "text/plain": [
       "<Figure size 432x288 with 1 Axes>"
      ]
     },
     "metadata": {
      "needs_background": "light"
     },
     "output_type": "display_data"
    }
   ],
   "source": [
    "train_mean = np.mean(train_scores, axis=1)\n",
    "train_std = np.std(train_scores, axis=1)\n",
    "test_mean = np.mean(test_scores, axis=1)\n",
    "test_std = np.std(test_scores, axis=1)\n",
    "plt.plot(train_sizes, train_mean, color=\"blue\", marker=\"o\", markersize=5, label=\"training accuracy\")\n",
    "plt.fill_between(train_sizes, train_mean + train_std, train_mean - train_std, alpha=0.15, color=\"blue\")\n",
    "plt.plot(train_sizes, test_mean, color=\"green\", marker=\"s\", markersize=5, label=\"validation accuracy\")\n",
    "plt.fill_between(train_sizes, test_mean + test_std, test_mean - test_std, alpha=0.15, color=\"green\")\n",
    "plt.grid()\n",
    "plt.xlabel(\"Number of training samples\")\n",
    "plt.ylabel(\"Accuracy\")\n",
    "plt.ylim([0.86, 0.95])\n",
    "plt.legend()\n",
    "plt.show()"
   ]
  },
  {
   "cell_type": "markdown",
   "metadata": {},
   "source": [
    "# Learn models"
   ]
  },
  {
   "cell_type": "markdown",
   "metadata": {},
   "source": [
    "## Check on test samples"
   ]
  },
  {
   "cell_type": "code",
   "execution_count": 22,
   "metadata": {},
   "outputs": [
    {
     "name": "stderr",
     "output_type": "stream",
     "text": [
      "/home/dima/.pyenv/versions/3.7.4/lib/python3.7/site-packages/sklearn/linear_model/_logistic.py:939: ConvergenceWarning: lbfgs failed to converge (status=1):\n",
      "STOP: TOTAL NO. of ITERATIONS REACHED LIMIT.\n",
      "\n",
      "Increase the number of iterations (max_iter) or scale the data as shown in:\n",
      "    https://scikit-learn.org/stable/modules/preprocessing.html.\n",
      "Please also refer to the documentation for alternative solver options:\n",
      "    https://scikit-learn.org/stable/modules/linear_model.html#logistic-regression\n",
      "  extra_warning_msg=_LOGISTIC_SOLVER_CONVERGENCE_MSG)\n",
      "/home/dima/.pyenv/versions/3.7.4/lib/python3.7/site-packages/sklearn/linear_model/_logistic.py:939: ConvergenceWarning: lbfgs failed to converge (status=1):\n",
      "STOP: TOTAL NO. of ITERATIONS REACHED LIMIT.\n",
      "\n",
      "Increase the number of iterations (max_iter) or scale the data as shown in:\n",
      "    https://scikit-learn.org/stable/modules/preprocessing.html.\n",
      "Please also refer to the documentation for alternative solver options:\n",
      "    https://scikit-learn.org/stable/modules/linear_model.html#logistic-regression\n",
      "  extra_warning_msg=_LOGISTIC_SOLVER_CONVERGENCE_MSG)\n"
     ]
    },
    {
     "data": {
      "text/plain": [
       "Pipeline(memory=None,\n",
       "         steps=[('columntransformer',\n",
       "                 ColumnTransformer(n_jobs=-1, remainder='passthrough',\n",
       "                                   sparse_threshold=0.3,\n",
       "                                   transformer_weights=None,\n",
       "                                   transformers=[('ohe0',\n",
       "                                                  OneHotEncoder(categories=[array(['Івано-Франківська область', 'Волинська область',\n",
       "       'Вінницька область', 'Дніпропетровська область',\n",
       "       'Донецька область', 'Житомирська область', 'Закарпатська облас...\n",
       "                                   verbose=False)),\n",
       "                ('standardscaler',\n",
       "                 StandardScaler(copy=True, with_mean=True, with_std=True)),\n",
       "                ('logisticregression',\n",
       "                 LogisticRegression(C=10, class_weight=None, dual=False,\n",
       "                                    fit_intercept=True, intercept_scaling=1,\n",
       "                                    l1_ratio=None, max_iter=7,\n",
       "                                    multi_class='auto', n_jobs=None,\n",
       "                                    penalty='l2', random_state=None,\n",
       "                                    solver='lbfgs', tol=0.0001, verbose=0,\n",
       "                                    warm_start=False))],\n",
       "         verbose=False)"
      ]
     },
     "execution_count": 22,
     "metadata": {},
     "output_type": "execute_result"
    }
   ],
   "source": [
    "pipe_budget_test = clone(pipeline)\n",
    "pipe_contract_test = clone(pipeline)\n",
    "pipe_budget_test.fit(X_train, y_b_train)\n",
    "pipe_contract_test.fit(X_train, y_c_train)"
   ]
  },
  {
   "cell_type": "code",
   "execution_count": 23,
   "metadata": {},
   "outputs": [
    {
     "data": {
      "text/plain": [
       "0.9216666666666666"
      ]
     },
     "execution_count": 23,
     "metadata": {},
     "output_type": "execute_result"
    }
   ],
   "source": [
    "pipe_budget_test.score(X_test, y_b_test)"
   ]
  },
  {
   "cell_type": "code",
   "execution_count": 24,
   "metadata": {},
   "outputs": [
    {
     "data": {
      "text/plain": [
       "0.9723333333333334"
      ]
     },
     "execution_count": 24,
     "metadata": {},
     "output_type": "execute_result"
    }
   ],
   "source": [
    "pipe_contract_test.score(X_test, y_c_test)"
   ]
  },
  {
   "cell_type": "markdown",
   "metadata": {},
   "source": [
    "## Final learning"
   ]
  },
  {
   "cell_type": "code",
   "execution_count": 25,
   "metadata": {},
   "outputs": [
    {
     "name": "stderr",
     "output_type": "stream",
     "text": [
      "/home/dima/.pyenv/versions/3.7.4/lib/python3.7/site-packages/sklearn/linear_model/_logistic.py:939: ConvergenceWarning: lbfgs failed to converge (status=1):\n",
      "STOP: TOTAL NO. of ITERATIONS REACHED LIMIT.\n",
      "\n",
      "Increase the number of iterations (max_iter) or scale the data as shown in:\n",
      "    https://scikit-learn.org/stable/modules/preprocessing.html.\n",
      "Please also refer to the documentation for alternative solver options:\n",
      "    https://scikit-learn.org/stable/modules/linear_model.html#logistic-regression\n",
      "  extra_warning_msg=_LOGISTIC_SOLVER_CONVERGENCE_MSG)\n",
      "/home/dima/.pyenv/versions/3.7.4/lib/python3.7/site-packages/sklearn/linear_model/_logistic.py:939: ConvergenceWarning: lbfgs failed to converge (status=1):\n",
      "STOP: TOTAL NO. of ITERATIONS REACHED LIMIT.\n",
      "\n",
      "Increase the number of iterations (max_iter) or scale the data as shown in:\n",
      "    https://scikit-learn.org/stable/modules/preprocessing.html.\n",
      "Please also refer to the documentation for alternative solver options:\n",
      "    https://scikit-learn.org/stable/modules/linear_model.html#logistic-regression\n",
      "  extra_warning_msg=_LOGISTIC_SOLVER_CONVERGENCE_MSG)\n"
     ]
    },
    {
     "data": {
      "text/plain": [
       "Pipeline(memory=None,\n",
       "         steps=[('columntransformer',\n",
       "                 ColumnTransformer(n_jobs=-1, remainder='passthrough',\n",
       "                                   sparse_threshold=0.3,\n",
       "                                   transformer_weights=None,\n",
       "                                   transformers=[('ohe0',\n",
       "                                                  OneHotEncoder(categories=[array(['Івано-Франківська область', 'Волинська область',\n",
       "       'Вінницька область', 'Дніпропетровська область',\n",
       "       'Донецька область', 'Житомирська область', 'Закарпатська облас...\n",
       "                                   verbose=False)),\n",
       "                ('standardscaler',\n",
       "                 StandardScaler(copy=True, with_mean=True, with_std=True)),\n",
       "                ('logisticregression',\n",
       "                 LogisticRegression(C=10, class_weight=None, dual=False,\n",
       "                                    fit_intercept=True, intercept_scaling=1,\n",
       "                                    l1_ratio=None, max_iter=7,\n",
       "                                    multi_class='auto', n_jobs=None,\n",
       "                                    penalty='l2', random_state=None,\n",
       "                                    solver='lbfgs', tol=0.0001, verbose=0,\n",
       "                                    warm_start=False))],\n",
       "         verbose=False)"
      ]
     },
     "execution_count": 25,
     "metadata": {},
     "output_type": "execute_result"
    }
   ],
   "source": [
    "pipe_budget = clone(pipeline)\n",
    "pipe_contract = clone(pipeline)\n",
    "pipe_budget.fit(X, y_b)\n",
    "pipe_contract.fit(X, y_c)"
   ]
  },
  {
   "cell_type": "code",
   "execution_count": 44,
   "metadata": {},
   "outputs": [
    {
     "data": {
      "text/plain": [
       "array([[0.07499211, 0.92500789]])"
      ]
     },
     "execution_count": 44,
     "metadata": {},
     "output_type": "execute_result"
    }
   ],
   "source": [
    "df = pd.DataFrame([[\"Харківська область\", \"Харківський національний університет радіоелектроніки\", 121, 180]])\n",
    "pipe_budget.predict_proba(df.values)"
   ]
  },
  {
   "cell_type": "code",
   "execution_count": 40,
   "metadata": {},
   "outputs": [
    {
     "data": {
      "text/plain": [
       "array([[0.04631216, 0.95368784]])"
      ]
     },
     "execution_count": 40,
     "metadata": {},
     "output_type": "execute_result"
    }
   ],
   "source": [
    "pipe_contract.predict_proba(df.values)"
   ]
  },
  {
   "cell_type": "code",
   "execution_count": 33,
   "metadata": {},
   "outputs": [
    {
     "data": {
      "text/plain": [
       "['contract_after_greed_search.joblib']"
      ]
     },
     "execution_count": 33,
     "metadata": {},
     "output_type": "execute_result"
    }
   ],
   "source": [
    "from joblib import dump\n",
    "dump(pipe_budget, \"budget_after_greed_search.joblib\")\n",
    "dump(pipe_contract, \"contract_after_greed_search.joblib\")"
   ]
  }
 ],
 "metadata": {
  "kernelspec": {
   "display_name": "Python 3",
   "language": "python",
   "name": "python3"
  },
  "language_info": {
   "codemirror_mode": {
    "name": "ipython",
    "version": 3
   },
   "file_extension": ".py",
   "mimetype": "text/x-python",
   "name": "python",
   "nbconvert_exporter": "python",
   "pygments_lexer": "ipython3",
   "version": "3.7.4"
  }
 },
 "nbformat": 4,
 "nbformat_minor": 2
}

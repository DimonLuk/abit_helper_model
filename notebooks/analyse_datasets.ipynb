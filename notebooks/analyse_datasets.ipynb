{
 "cells": [
  {
   "cell_type": "markdown",
   "metadata": {},
   "source": [
    "# imports"
   ]
  },
  {
   "cell_type": "code",
   "execution_count": 1,
   "metadata": {},
   "outputs": [],
   "source": [
    "import pandas as pd\n",
    "from sklearn.model_selection import train_test_split\n",
    "from sklearn.compose import ColumnTransformer\n",
    "from sklearn.preprocessing import OneHotEncoder, StandardScaler\n",
    "from sklearn.decomposition import PCA\n",
    "import matplotlib.pyplot as plt\n",
    "import numpy as np"
   ]
  },
  {
   "cell_type": "markdown",
   "metadata": {},
   "source": [
    "# Analyse dataset"
   ]
  },
  {
   "cell_type": "markdown",
   "metadata": {},
   "source": [
    "## load datasets"
   ]
  },
  {
   "cell_type": "code",
   "execution_count": 2,
   "metadata": {},
   "outputs": [],
   "source": [
    "df_budget = pd.read_csv(\"budget.csv\")\n",
    "df_contract = pd.read_csv(\"contract.csv\")"
   ]
  },
  {
   "cell_type": "code",
   "execution_count": 3,
   "metadata": {},
   "outputs": [
    {
     "data": {
      "text/plain": [
       "59303"
      ]
     },
     "execution_count": 3,
     "metadata": {},
     "output_type": "execute_result"
    }
   ],
   "source": [
    "df_budget.head()\n",
    "df_budget.shape[0]"
   ]
  },
  {
   "cell_type": "code",
   "execution_count": 4,
   "metadata": {},
   "outputs": [
    {
     "data": {
      "text/html": [
       "<div>\n",
       "<style scoped>\n",
       "    .dataframe tbody tr th:only-of-type {\n",
       "        vertical-align: middle;\n",
       "    }\n",
       "\n",
       "    .dataframe tbody tr th {\n",
       "        vertical-align: top;\n",
       "    }\n",
       "\n",
       "    .dataframe thead th {\n",
       "        text-align: right;\n",
       "    }\n",
       "</style>\n",
       "<table border=\"1\" class=\"dataframe\">\n",
       "  <thead>\n",
       "    <tr style=\"text-align: right;\">\n",
       "      <th></th>\n",
       "      <th>university</th>\n",
       "      <th>specialty</th>\n",
       "      <th>points</th>\n",
       "      <th>status</th>\n",
       "    </tr>\n",
       "  </thead>\n",
       "  <tbody>\n",
       "    <tr>\n",
       "      <th>0</th>\n",
       "      <td>Львівський національний університет імені Іван...</td>\n",
       "      <td>81</td>\n",
       "      <td>189.210</td>\n",
       "      <td>1</td>\n",
       "    </tr>\n",
       "    <tr>\n",
       "      <th>1</th>\n",
       "      <td>Університет державної фіскальної служби України</td>\n",
       "      <td>81</td>\n",
       "      <td>134.028</td>\n",
       "      <td>1</td>\n",
       "    </tr>\n",
       "    <tr>\n",
       "      <th>2</th>\n",
       "      <td>Національний юридичний університет імені Яросл...</td>\n",
       "      <td>81</td>\n",
       "      <td>187.476</td>\n",
       "      <td>1</td>\n",
       "    </tr>\n",
       "    <tr>\n",
       "      <th>3</th>\n",
       "      <td>Університет державної фіскальної служби України</td>\n",
       "      <td>81</td>\n",
       "      <td>178.959</td>\n",
       "      <td>1</td>\n",
       "    </tr>\n",
       "    <tr>\n",
       "      <th>4</th>\n",
       "      <td>Національний юридичний університет імені Яросл...</td>\n",
       "      <td>81</td>\n",
       "      <td>186.762</td>\n",
       "      <td>1</td>\n",
       "    </tr>\n",
       "  </tbody>\n",
       "</table>\n",
       "</div>"
      ],
      "text/plain": [
       "                                          university  specialty   points  \\\n",
       "0  Львівський національний університет імені Іван...         81  189.210   \n",
       "1    Університет державної фіскальної служби України         81  134.028   \n",
       "2  Національний юридичний університет імені Яросл...         81  187.476   \n",
       "3    Університет державної фіскальної служби України         81  178.959   \n",
       "4  Національний юридичний університет імені Яросл...         81  186.762   \n",
       "\n",
       "   status  \n",
       "0       1  \n",
       "1       1  \n",
       "2       1  \n",
       "3       1  \n",
       "4       1  "
      ]
     },
     "execution_count": 4,
     "metadata": {},
     "output_type": "execute_result"
    }
   ],
   "source": [
    "df_contract.head()"
   ]
  },
  {
   "cell_type": "markdown",
   "metadata": {},
   "source": [
    "## PCA analysis\n",
    " - y_b - results related to budget set\n",
    " - y_c - results related to contract set\n",
    " X because data are the same for both groups"
   ]
  },
  {
   "cell_type": "code",
   "execution_count": 5,
   "metadata": {},
   "outputs": [],
   "source": [
    "def separate_results_from_data(df):\n",
    "    data = df.values\n",
    "    X, y = data[:, :-1], data[:, -1:]\n",
    "    y = y.astype(\"int\")\n",
    "    return X, y\n",
    "\n",
    "X, y_b = separate_results_from_data(df_budget)\n",
    "_, y_c = separate_results_from_data(df_contract)"
   ]
  },
  {
   "cell_type": "code",
   "execution_count": 6,
   "metadata": {},
   "outputs": [],
   "source": [
    "def do_one_hot_encoding(X, columns=[0, 1]):\n",
    "    ct = ColumnTransformer(\n",
    "        transformers=[\n",
    "            (\"ohe\", OneHotEncoder(categories=\"auto\", sparse=False), columns)\n",
    "        ],\n",
    "        remainder=\"passthrough\",\n",
    "        n_jobs=-1\n",
    "    )\n",
    "    return ct.fit_transform(X)\n",
    "\n",
    "X = do_one_hot_encoding(X)"
   ]
  },
  {
   "cell_type": "code",
   "execution_count": 7,
   "metadata": {},
   "outputs": [],
   "source": [
    "X = StandardScaler().fit_transform(X)"
   ]
  },
  {
   "cell_type": "code",
   "execution_count": 8,
   "metadata": {},
   "outputs": [
    {
     "data": {
      "text/plain": [
       "array([[-1.16154478e-02, -9.18258547e-03, -8.21308487e-03, ...,\n",
       "        -8.03062549e-02, -5.40902654e-02,  1.24947915e+00],\n",
       "       [-1.16154478e-02, -9.18258547e-03, -8.21308487e-03, ...,\n",
       "        -8.03062549e-02, -5.40902654e-02, -1.43246594e+00],\n",
       "       [-1.16154478e-02, -9.18258547e-03, -8.21308487e-03, ...,\n",
       "        -8.03062549e-02, -5.40902654e-02,  1.16520362e+00],\n",
       "       ...,\n",
       "       [-1.16154478e-02, -9.18258547e-03, -8.21308487e-03, ...,\n",
       "        -8.03062549e-02, -5.40902654e-02, -2.45120849e+00],\n",
       "       [-1.16154478e-02, -9.18258547e-03, -8.21308487e-03, ...,\n",
       "        -8.03062549e-02, -5.40902654e-02,  3.50783079e-01],\n",
       "       [-1.16154478e-02, -9.18258547e-03, -8.21308487e-03, ...,\n",
       "         1.24523302e+01, -5.40902654e-02,  2.67236567e-01]])"
      ]
     },
     "execution_count": 8,
     "metadata": {},
     "output_type": "execute_result"
    }
   ],
   "source": [
    "X"
   ]
  },
  {
   "cell_type": "code",
   "execution_count": 9,
   "metadata": {},
   "outputs": [
    {
     "data": {
      "text/plain": [
       "PCA(copy=True, iterated_power='auto', n_components=None, random_state=2,\n",
       "    svd_solver='auto', tol=0.0, whiten=False)"
      ]
     },
     "execution_count": 9,
     "metadata": {},
     "output_type": "execute_result"
    }
   ],
   "source": [
    "pca = PCA(random_state=2)\n",
    "pca.fit(X)"
   ]
  },
  {
   "cell_type": "code",
   "execution_count": 10,
   "metadata": {},
   "outputs": [
    {
     "data": {
      "text/plain": [
       "655"
      ]
     },
     "execution_count": 10,
     "metadata": {},
     "output_type": "execute_result"
    }
   ],
   "source": [
    "X.shape[1]"
   ]
  },
  {
   "cell_type": "code",
   "execution_count": 13,
   "metadata": {},
   "outputs": [
    {
     "name": "stdout",
     "output_type": "stream",
     "text": [
      "Number of components that explain 100 percent of variance: 652, explained variance: 1.0000000000000004\n"
     ]
    },
    {
     "data": {
      "image/png": "[encoded data removed]",
      "text/plain": [
       "<Figure size 432x288 with 1 Axes>"
      ]
     },
     "metadata": {
      "needs_background": "light"
     },
     "output_type": "display_data"
    }
   ],
   "source": [
    "pca.explained_variance_ratio_\n",
    "cumsum = np.cumsum(pca.explained_variance_ratio_)\n",
    "plt.step(range(1, 656), cumsum[0:655], label=\"cummulative explained variance\")\n",
    "idx = np.abs(cumsum - 1).argmin()\n",
    "cumsum[idx]\n",
    "print(f\"Number of components that explain 100 percent of variance: {idx}, explained variance: {cumsum[idx]}\")"
   ]
  },
  {
   "cell_type": "markdown",
   "metadata": {},
   "source": [
    "## Results\n",
    " - No dominant components"
   ]
  }
 ],
 "metadata": {
  "kernelspec": {
   "display_name": "Python 3",
   "language": "python",
   "name": "python3"
  },
  "language_info": {
   "codemirror_mode": {
    "name": "ipython",
    "version": 3
   },
   "file_extension": ".py",
   "mimetype": "text/x-python",
   "name": "python",
   "nbconvert_exporter": "python",
   "pygments_lexer": "ipython3",
   "version": "3.7.4"
  }
 },
 "nbformat": 4,
 "nbformat_minor": 2
}
